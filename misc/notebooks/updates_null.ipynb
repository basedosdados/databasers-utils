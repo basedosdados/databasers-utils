{
  "nbformat": 4,
  "nbformat_minor": 0,
  "metadata": {
    "colab": {
      "provenance": []
    },
    "kernelspec": {
      "name": "python3",
      "display_name": "Python 3"
    },
    "language_info": {
      "name": "python"
    }
  },
  "cells": [
    {
      "cell_type": "code",
      "source": [
        "# conectar seu drive caso você queira salvar ou carregar algo de lá\n",
        "\n",
        "from google.colab import drive\n",
        "drive.mount('/content/drive')"
      ],
      "metadata": {
        "colab": {
          "base_uri": "https://localhost:8080/"
        },
        "id": "Ap37VqSXwuIS",
        "outputId": "7e056a66-9ffb-4d04-88a7-b714165afcef"
      },
      "execution_count": null,
      "outputs": [
        {
          "output_type": "stream",
          "name": "stdout",
          "text": [
            "Mounted at /content/drive\n"
          ]
        }
      ]
    },
    {
      "cell_type": "markdown",
      "source": [
        "# Funçoes e importações"
      ],
      "metadata": {
        "id": "VjIOOtwk-toX"
      }
    },
    {
      "cell_type": "code",
      "source": [
        "from IPython.display import clear_output\n",
        "import sys\n",
        "import ipywidgets as widgets\n",
        "from IPython.display import display, HTML\n",
        "import os\n",
        "from IPython.display import clear_output\n",
        "from google.colab import userdata\n",
        "!pip install basedosdados==2.0.0b16\n",
        "clear_output()\n",
        "!pip install gql\n",
        "!pip install requests-toolbelt\n",
        "!git clone --branch colab-scripts https://github.com/basedosdados/databasers-utils.git\n",
        "sys.path.insert(0, '/content/databasers-utils/colab-scripts')\n",
        "clear_output()\n",
        "\n",
        "from gql import gql"
      ],
      "metadata": {
        "id": "jj2xu-8gGX4_"
      },
      "execution_count": null,
      "outputs": []
    },
    {
      "cell_type": "code",
      "source": [
        "from client_graphql import MakeClient\n",
        "import pandas as pd\n",
        "from datetime import datetime\n",
        "from typing import NamedTuple\n",
        "\n",
        "def get_tables_null() -> dict:\n",
        "\n",
        "  query = \"\"\"\n",
        "        query{\n",
        "          allTable(updates_Id_Isnull: true){\n",
        "            edges{\n",
        "              node{\n",
        "                id\n",
        "                name\n",
        "                slug\n",
        "                dataset{\n",
        "                  id\n",
        "                  name\n",
        "                  slug\n",
        "                }\n",
        "                cloudTables{\n",
        "                  edges{\n",
        "                    node{\n",
        "                      gcpTableId\n",
        "                      gcpDatasetId\n",
        "                    }\n",
        "                  }\n",
        "                }\n",
        "              }\n",
        "            }\n",
        "          }\n",
        "        }\n",
        "    \"\"\"\n",
        "\n",
        "  respose = client.query.execute(gql(query))\n",
        "  return respose\n",
        "\n",
        "\n",
        "def make_row(short: dict) -> dict:\n",
        "\n",
        "  row = {}\n",
        "\n",
        "  row[\"table_id\"] = short[\"node\"][\"id\"]\n",
        "  row[\"table_name\"] = short[\"node\"][\"name\"]\n",
        "  row[\"table_slug\"] = short[\"node\"][\"slug\"]\n",
        "  row[\"dataset_id\"] = short[\"node\"][\"dataset\"][\"id\"]\n",
        "  row[\"dataset_name\"] = short[\"node\"][\"dataset\"][\"name\"]\n",
        "  row[\"dataset_slug\"] = short[\"node\"][\"dataset\"][\"slug\"]\n",
        "\n",
        "  try:\n",
        "    row[\"bq_table\"] = short[\"node\"][\"cloudTables\"][\"edges\"][0][\"node\"][\"gcpTableId\"]\n",
        "    row[\"bq_dataset\"] = short[\"node\"][\"cloudTables\"][\"edges\"][0][\"node\"][\"gcpDatasetId\"]\n",
        "  except IndexError:\n",
        "    row[\"bq_table\"] = None\n",
        "    row[\"bq_dataset\"] = None\n",
        "\n",
        "  return row\n",
        "\n",
        "\n",
        "def clear_id(id_value: str) -> str:\n",
        "  return id_value.split(\":\")[1]\n",
        "\n",
        "\n",
        "def form_link(base_url: str, table_id: str, dataset_id: str) -> str:\n",
        "  return base_url.format(table_id=table_id, dataset_id=dataset_id)\n",
        "\n",
        "\n",
        "def create_generic_update(row: NamedTuple) -> str:\n",
        "\n",
        "  inputs = {\n",
        "      \"table\": row.table_id,\n",
        "      \"latest\": row.last_modified_time,\n",
        "      \"entity\": \"81f0c890-65a6-48a1-9523-af38d3f4af63\"\n",
        "  }\n",
        "\n",
        "  response = client.query_mutation(mutation_class=\"Update\", input_values=inputs, only_id=True)\n",
        "  return response\n"
      ],
      "metadata": {
        "id": "Ks2i98VMmmtj"
      },
      "execution_count": null,
      "outputs": []
    },
    {
      "cell_type": "markdown",
      "source": [
        "# Constantes"
      ],
      "metadata": {
        "id": "Mhn37-emCyqe"
      }
    },
    {
      "cell_type": "code",
      "source": [
        "client = MakeClient()\n",
        "\n",
        "base_page_link = \"https://basedosdados.org/dataset/{dataset_id}?table={table_id}\"\n",
        "base_backend_link_table = \"https://backend.basedosdados.org/admin/v1/table/{table_id}\"\n",
        "base_backend_link_dataset = \"https://backend.basedosdados.org/admin/v1/dataset/{dataset_id}\"\n",
        "path_output_excel = \"/content/tabelas_sem_update.xlsx\"\n",
        "path_base_excel = \"/content/drive/MyDrive/DataBase/bd/tabelas_sem_update.xlsx\""
      ],
      "metadata": {
        "id": "--3F4svktKNq"
      },
      "execution_count": null,
      "outputs": []
    },
    {
      "cell_type": "markdown",
      "source": [
        "# Coleta"
      ],
      "metadata": {
        "id": "X119u88s-vxb"
      }
    },
    {
      "cell_type": "markdown",
      "source": [
        "## Pega vazios"
      ],
      "metadata": {
        "id": "s4Mdk9C3xORp"
      }
    },
    {
      "cell_type": "code",
      "source": [
        "response_nulls = get_tables_null()\n",
        "\n",
        "rows = [make_row(short) for short in response_nulls[\"allTable\"][\"edges\"]]\n",
        "df_nulls = pd.DataFrame(rows)\n",
        "df_nulls.table_id = df_nulls.table_id.apply(clear_id)\n",
        "df_nulls.dataset_id = df_nulls.dataset_id.apply(clear_id)\n",
        "df_nulls[\"page_link\"] = [form_link(base_page_link, row.table_id, row.dataset_id) for row in df_nulls.itertuples()]\n",
        "df_nulls[\"backend_table_link\"] = [form_link(base_backend_link_table, row.table_id, row.dataset_id) for row in df_nulls.itertuples()]\n",
        "df_nulls[\"backend_dataset_link\"] = [form_link(base_backend_link_dataset, row.table_id, row.dataset_id) for row in df_nulls.itertuples()]\n",
        "\n",
        "para_coletar = df_nulls[(df_nulls.bq_dataset.notnull()) & (df_nulls.bq_dataset != \"br_mc_auxilio_emergencial\")]"
      ],
      "metadata": {
        "id": "JgAarSCXm7Yy"
      },
      "execution_count": null,
      "outputs": []
    },
    {
      "cell_type": "markdown",
      "source": [
        "## Pegar ultima data de materialização bigquery"
      ],
      "metadata": {
        "id": "GU3_7d6nDLyX"
      }
    },
    {
      "cell_type": "code",
      "source": [
        "# Formar Query para coleta a data de materialização\n",
        "\n",
        "query = \"\"\"\n",
        "tabelas{number} as (\n",
        "SELECT\n",
        "dataset_id,\n",
        "table_id,\n",
        "TIMESTAMP_MILLIS(creation_time) as last_modified_time\n",
        "FROM `basedosdados.{bq_dataset}.__TABLES_SUMMARY__`\n",
        "WHERE table_id = '{bq_table}')\n",
        "\"\"\"\n",
        "\n",
        "\n",
        "query_done = \", \\n\".join([query.format(number=n, bq_dataset=row.bq_dataset, bq_table=row.bq_table) for n, row in enumerate(para_coletar.itertuples())])\n",
        "\n",
        "selects = \"union all\\n\".join([f\"select * from tabelas{n}\\n\" for n in range(len(para_coletar))])\n",
        "\n",
        "query_full = \"with \" + query_done + \"\\n\" + selects\n",
        "\n",
        "# Salvar query caso debug\n",
        "with open(\"query_table.txt\", \"w\") as query_w:\n",
        "  query_w.write(query_full)"
      ],
      "metadata": {
        "id": "Pp9n-fDfp7yZ"
      },
      "execution_count": null,
      "outputs": []
    },
    {
      "cell_type": "code",
      "source": [
        "import basedosdados as bd\n",
        "\n",
        "df_last_modified_time = bd.read_sql(\n",
        "      query_full,\n",
        "      billing_project_id=\"basedosdados-dev\"\n",
        "  )"
      ],
      "metadata": {
        "colab": {
          "base_uri": "https://localhost:8080/"
        },
        "id": "S2VLNr1o1A4z",
        "outputId": "37e06375-4caa-48a9-a03f-68a656953693"
      },
      "execution_count": null,
      "outputs": [
        {
          "output_type": "stream",
          "name": "stdout",
          "text": [
            "Downloading: 100%|\u001b[32m██████████\u001b[0m|\n"
          ]
        }
      ]
    },
    {
      "cell_type": "markdown",
      "source": [
        "## Juntar ultima data do bigquery com nosso dataframe"
      ],
      "metadata": {
        "id": "jqK-nWHvC-xe"
      }
    },
    {
      "cell_type": "code",
      "source": [
        "for row in df_last_modified_time.itertuples():\n",
        "  mask = (para_coletar.bq_dataset == row.dataset_id) & (para_coletar.bq_table == row.table_id)\n",
        "  para_coletar.loc[mask, \"last_modified_time\"] = row.last_modified_time\n",
        "\n",
        "para_coletar.last_modified_time = para_coletar.last_modified_time.apply(lambda date: date.isoformat())\n",
        "para_coletar[\"update_id\"] = \"\"\n",
        "\n",
        "para_coletar.to_excel(path_output_excel, index=False)"
      ],
      "metadata": {
        "id": "YW98C4Y3phOJ"
      },
      "execution_count": null,
      "outputs": []
    },
    {
      "cell_type": "markdown",
      "source": [
        "# Criar Update"
      ],
      "metadata": {
        "id": "YyJRvVs--xMG"
      }
    },
    {
      "cell_type": "code",
      "source": [
        "tabela_sem_update = pd.read_excel(path_base_excel,\n",
        "                               dtype=str)\n",
        "\n",
        "select_rows = (tabela_sem_update.update_id.isnull()) & (tabela_sem_update.last_modified_time != \"NaT\")\n",
        "para_preencher = tabela_sem_update[select_rows]\n",
        "\n",
        "for row in para_preencher.itertuples():\n",
        "\n",
        "  id_update = create_generic_update(row)\n",
        "\n",
        "  tabela_sem_update.loc[row.Index].update_id = id_update\n",
        "\n",
        "  tabela_sem_update.to_excel(path_base_excel, index=False)"
      ],
      "metadata": {
        "id": "byYM1zjtzAWS"
      },
      "execution_count": null,
      "outputs": []
    }
  ]
}